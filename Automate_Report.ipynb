{
  "nbformat": 4,
  "nbformat_minor": 0,
  "metadata": {
    "colab": {
      "provenance": [],
      "authorship_tag": "ABX9TyNTHP2DXc9buWC+lI7qG05I",
      "include_colab_link": true
    },
    "kernelspec": {
      "name": "python3",
      "display_name": "Python 3"
    },
    "language_info": {
      "name": "python"
    }
  },
  "cells": [
    {
      "cell_type": "markdown",
      "metadata": {
        "id": "view-in-github",
        "colab_type": "text"
      },
      "source": [
        "<a href=\"https://colab.research.google.com/github/MochammadHAnshory/AutomateReport/blob/main/Automate_Report.ipynb\" target=\"_parent\"><img src=\"https://colab.research.google.com/assets/colab-badge.svg\" alt=\"Open In Colab\"/></a>"
      ]
    },
    {
      "cell_type": "markdown",
      "source": [
        "#Mengimport Data"
      ],
      "metadata": {
        "id": "fJZU2XGflbOd"
      }
    },
    {
      "cell_type": "code",
      "execution_count": null,
      "metadata": {
        "id": "9ry9xBlkj0Mc"
      },
      "outputs": [],
      "source": [
        "from google.colab import files\n",
        "files1 = files.upload()"
      ]
    },
    {
      "cell_type": "markdown",
      "source": [
        "#Membaca File yang di Upload dan Import Library"
      ],
      "metadata": {
        "id": "Bgw_PugfzKqA"
      }
    },
    {
      "cell_type": "code",
      "source": [
        "import matplotlib.pyplot as plt\n",
        "import pandas as pd\n",
        "df1 = pd.read_csv('/content/Sales_January_2019.csv')\n",
        "df2 = pd.read_csv('/content/Sales_February_2019.csv')\n",
        "df3 = pd.read_csv('/content/Sales_March_2019.csv')\n",
        "df4 = pd.read_csv('/content/Sales_April_2019.csv')\n",
        "df5 = pd.read_csv('/content/Sales_May_2019.csv')\n",
        "df6 = pd.read_csv('/content/Sales_June_2019.csv')\n",
        "df7 = pd.read_csv('/content/Sales_July_2019.csv')\n",
        "df8 = pd.read_csv('/content/Sales_August_2019.csv')\n",
        "df9 = pd.read_csv('/content/Sales_September_2019.csv')\n",
        "df10 = pd.read_csv('/content/Sales_October_2019.csv')\n",
        "df11 = pd.read_csv('/content/Sales_November_2019.csv')\n",
        "df12 = pd.read_csv('/content/Sales_December_2019.csv')"
      ],
      "metadata": {
        "id": "DY9bBHxGle98"
      },
      "execution_count": 44,
      "outputs": []
    },
    {
      "cell_type": "markdown",
      "source": [
        "#Meyatukan Data"
      ],
      "metadata": {
        "id": "dPzVN5a9l0QU"
      }
    },
    {
      "cell_type": "code",
      "source": [
        "combined_file_2019 = pd.concat([df1,df2,df3,df4,df5,df6,df6,df7,df8,df9,df10,df11,df12], ignore_index= True) "
      ],
      "metadata": {
        "id": "qBFMQIYwohJq"
      },
      "execution_count": 17,
      "outputs": []
    },
    {
      "cell_type": "code",
      "source": [
        "combined_file_2019"
      ],
      "metadata": {
        "id": "2LxDxDBBohTC"
      },
      "execution_count": null,
      "outputs": []
    },
    {
      "cell_type": "code",
      "source": [
        "combined_file_2019.drop(combined_file_2019[combined_file_2019[\"Quantity Ordered\"] == \"Quantity Ordered\"].index, inplace=True)"
      ],
      "metadata": {
        "id": "IOw61KDOohcR"
      },
      "execution_count": 19,
      "outputs": []
    },
    {
      "cell_type": "markdown",
      "source": [
        "#Menambahkan Kolom Total Harga dan Tanggal Order"
      ],
      "metadata": {
        "id": "nREuLHFMnFp8"
      }
    },
    {
      "cell_type": "code",
      "source": [
        "combined_file_2019[\"Total Harga\"] = combined_file_2019[\"Quantity Ordered\"].astype(float) * combined_file_2019[\"Price Each\"].astype(float)"
      ],
      "metadata": {
        "id": "VqtLsX4ao4WZ"
      },
      "execution_count": 20,
      "outputs": []
    },
    {
      "cell_type": "code",
      "source": [
        "combined_file_2019[\"Waktu Order\"] = pd.to_datetime(combined_file_2019[\"Order Date\"])"
      ],
      "metadata": {
        "id": "z7oamSnao4kA"
      },
      "execution_count": 25,
      "outputs": []
    },
    {
      "cell_type": "code",
      "source": [
        "combined_file_2019.drop(combined_file_2019[combined_file_2019[\"Order Date\"].isna()].index, inplace=True)"
      ],
      "metadata": {
        "id": "dlvDY3XcpaSL"
      },
      "execution_count": 26,
      "outputs": []
    },
    {
      "cell_type": "code",
      "source": [
        "combined_file_2019"
      ],
      "metadata": {
        "id": "5-Nzd7_KpiJ6"
      },
      "execution_count": null,
      "outputs": []
    },
    {
      "cell_type": "markdown",
      "source": [
        "#Pengelompokkan berdasarkan Produk dan Bulan"
      ],
      "metadata": {
        "id": "QBoYig27p8mZ"
      }
    },
    {
      "cell_type": "code",
      "source": [
        "bulan  = combined_file_2019.groupby(pd.Grouper(key='Waktu Order', freq='M')).agg({\"Total Harga\": \"sum\"}).reset_index()"
      ],
      "metadata": {
        "id": "c8tSA67vqHOp"
      },
      "execution_count": 29,
      "outputs": []
    },
    {
      "cell_type": "code",
      "source": [
        "bulan"
      ],
      "metadata": {
        "id": "2OukmWcoqTXp"
      },
      "execution_count": null,
      "outputs": []
    },
    {
      "cell_type": "code",
      "source": [
        "produk = combined_file_2019.groupby('Product').agg({\"Total Harga\": \"sum\"}).reset_index().sort_values('Total Harga', ascending=False).head(3)"
      ],
      "metadata": {
        "id": "RO2nAdeaqjkJ"
      },
      "execution_count": 32,
      "outputs": []
    },
    {
      "cell_type": "code",
      "source": [
        "produk"
      ],
      "metadata": {
        "colab": {
          "base_uri": "https://localhost:8080/",
          "height": 143
        },
        "id": "HoiVIFVeq2vJ",
        "outputId": "1c807877-fc21-4027-c37f-ceda06599eb3"
      },
      "execution_count": 39,
      "outputs": [
        {
          "output_type": "execute_result",
          "data": {
            "text/plain": [
              "               Product  Total Harga\n",
              "13  Macbook Pro Laptop   8642800.00\n",
              "18              iPhone   5166700.00\n",
              "14     ThinkPad Laptop   4444955.55"
            ],
            "text/html": [
              "\n",
              "  <div id=\"df-94b743df-d031-4cc8-9af9-00f3f9cb9722\">\n",
              "    <div class=\"colab-df-container\">\n",
              "      <div>\n",
              "<style scoped>\n",
              "    .dataframe tbody tr th:only-of-type {\n",
              "        vertical-align: middle;\n",
              "    }\n",
              "\n",
              "    .dataframe tbody tr th {\n",
              "        vertical-align: top;\n",
              "    }\n",
              "\n",
              "    .dataframe thead th {\n",
              "        text-align: right;\n",
              "    }\n",
              "</style>\n",
              "<table border=\"1\" class=\"dataframe\">\n",
              "  <thead>\n",
              "    <tr style=\"text-align: right;\">\n",
              "      <th></th>\n",
              "      <th>Product</th>\n",
              "      <th>Total Harga</th>\n",
              "    </tr>\n",
              "  </thead>\n",
              "  <tbody>\n",
              "    <tr>\n",
              "      <th>13</th>\n",
              "      <td>Macbook Pro Laptop</td>\n",
              "      <td>8642800.00</td>\n",
              "    </tr>\n",
              "    <tr>\n",
              "      <th>18</th>\n",
              "      <td>iPhone</td>\n",
              "      <td>5166700.00</td>\n",
              "    </tr>\n",
              "    <tr>\n",
              "      <th>14</th>\n",
              "      <td>ThinkPad Laptop</td>\n",
              "      <td>4444955.55</td>\n",
              "    </tr>\n",
              "  </tbody>\n",
              "</table>\n",
              "</div>\n",
              "      <button class=\"colab-df-convert\" onclick=\"convertToInteractive('df-94b743df-d031-4cc8-9af9-00f3f9cb9722')\"\n",
              "              title=\"Convert this dataframe to an interactive table.\"\n",
              "              style=\"display:none;\">\n",
              "        \n",
              "  <svg xmlns=\"http://www.w3.org/2000/svg\" height=\"24px\"viewBox=\"0 0 24 24\"\n",
              "       width=\"24px\">\n",
              "    <path d=\"M0 0h24v24H0V0z\" fill=\"none\"/>\n",
              "    <path d=\"M18.56 5.44l.94 2.06.94-2.06 2.06-.94-2.06-.94-.94-2.06-.94 2.06-2.06.94zm-11 1L8.5 8.5l.94-2.06 2.06-.94-2.06-.94L8.5 2.5l-.94 2.06-2.06.94zm10 10l.94 2.06.94-2.06 2.06-.94-2.06-.94-.94-2.06-.94 2.06-2.06.94z\"/><path d=\"M17.41 7.96l-1.37-1.37c-.4-.4-.92-.59-1.43-.59-.52 0-1.04.2-1.43.59L10.3 9.45l-7.72 7.72c-.78.78-.78 2.05 0 2.83L4 21.41c.39.39.9.59 1.41.59.51 0 1.02-.2 1.41-.59l7.78-7.78 2.81-2.81c.8-.78.8-2.07 0-2.86zM5.41 20L4 18.59l7.72-7.72 1.47 1.35L5.41 20z\"/>\n",
              "  </svg>\n",
              "      </button>\n",
              "      \n",
              "  <style>\n",
              "    .colab-df-container {\n",
              "      display:flex;\n",
              "      flex-wrap:wrap;\n",
              "      gap: 12px;\n",
              "    }\n",
              "\n",
              "    .colab-df-convert {\n",
              "      background-color: #E8F0FE;\n",
              "      border: none;\n",
              "      border-radius: 50%;\n",
              "      cursor: pointer;\n",
              "      display: none;\n",
              "      fill: #1967D2;\n",
              "      height: 32px;\n",
              "      padding: 0 0 0 0;\n",
              "      width: 32px;\n",
              "    }\n",
              "\n",
              "    .colab-df-convert:hover {\n",
              "      background-color: #E2EBFA;\n",
              "      box-shadow: 0px 1px 2px rgba(60, 64, 67, 0.3), 0px 1px 3px 1px rgba(60, 64, 67, 0.15);\n",
              "      fill: #174EA6;\n",
              "    }\n",
              "\n",
              "    [theme=dark] .colab-df-convert {\n",
              "      background-color: #3B4455;\n",
              "      fill: #D2E3FC;\n",
              "    }\n",
              "\n",
              "    [theme=dark] .colab-df-convert:hover {\n",
              "      background-color: #434B5C;\n",
              "      box-shadow: 0px 1px 3px 1px rgba(0, 0, 0, 0.15);\n",
              "      filter: drop-shadow(0px 1px 2px rgba(0, 0, 0, 0.3));\n",
              "      fill: #FFFFFF;\n",
              "    }\n",
              "  </style>\n",
              "\n",
              "      <script>\n",
              "        const buttonEl =\n",
              "          document.querySelector('#df-94b743df-d031-4cc8-9af9-00f3f9cb9722 button.colab-df-convert');\n",
              "        buttonEl.style.display =\n",
              "          google.colab.kernel.accessAllowed ? 'block' : 'none';\n",
              "\n",
              "        async function convertToInteractive(key) {\n",
              "          const element = document.querySelector('#df-94b743df-d031-4cc8-9af9-00f3f9cb9722');\n",
              "          const dataTable =\n",
              "            await google.colab.kernel.invokeFunction('convertToInteractive',\n",
              "                                                     [key], {});\n",
              "          if (!dataTable) return;\n",
              "\n",
              "          const docLinkHtml = 'Like what you see? Visit the ' +\n",
              "            '<a target=\"_blank\" href=https://colab.research.google.com/notebooks/data_table.ipynb>data table notebook</a>'\n",
              "            + ' to learn more about interactive tables.';\n",
              "          element.innerHTML = '';\n",
              "          dataTable['output_type'] = 'display_data';\n",
              "          await google.colab.output.renderOutput(dataTable, element);\n",
              "          const docLink = document.createElement('div');\n",
              "          docLink.innerHTML = docLinkHtml;\n",
              "          element.appendChild(docLink);\n",
              "        }\n",
              "      </script>\n",
              "    </div>\n",
              "  </div>\n",
              "  "
            ]
          },
          "metadata": {},
          "execution_count": 39
        }
      ]
    },
    {
      "cell_type": "code",
      "source": [
        "    fig, ax = plt.subplots(2)\n",
        "\n",
        "    # Membuat grafik Sales by Produk\n",
        "    ax[0].bar(produk['Product'], produk['Total Harga'])\n",
        "    ax[0].set_xlabel('Product')\n",
        "    ax[0].set_ylabel('Total Sales (USD)')\n",
        "    ax[0].set_yticklabels(bulan['Total Harga'])\n",
        "\n",
        "    # Membuat grafik Sales berdasarkan bulan\n",
        "    ax[1].bar(bulan['Waktu Order'].dt.month.astype(str), bulan['Total Harga'])\n",
        "    ax[1].set_xlabel('Month')\n",
        "    ax[1].set_ylabel('Total Sales (USD)')\n",
        "    ax[1].set_yticklabels(bulan['Total Harga'])"
      ],
      "metadata": {
        "colab": {
          "base_uri": "https://localhost:8080/",
          "height": 348
        },
        "id": "txTJnN3CrCSi",
        "outputId": "fde5bdf2-56ef-454b-8f8b-b2df054ad3a4"
      },
      "execution_count": 47,
      "outputs": [
        {
          "output_type": "execute_result",
          "data": {
            "text/plain": [
              "[Text(0, 0, '1813586.44'),\n",
              " Text(0, 0, '2202022.42'),\n",
              " Text(0, 0, '2807100.38'),\n",
              " Text(0, 0, '3390670.24')]"
            ]
          },
          "metadata": {},
          "execution_count": 47
        },
        {
          "output_type": "display_data",
          "data": {
            "text/plain": [
              "<Figure size 432x288 with 2 Axes>"
            ],
            "image/png": "[encoded data removed]"
          },
          "metadata": {
            "needs_background": "light"
          }
        }
      ]
    }
  ]
}